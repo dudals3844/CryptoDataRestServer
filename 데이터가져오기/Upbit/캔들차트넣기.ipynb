{
 "cells": [
  {
   "cell_type": "code",
   "execution_count": 1,
   "metadata": {
    "collapsed": true
   },
   "outputs": [],
   "source": [
    "import pandas as pd\n",
    "import requests\n",
    "from requests.adapters import HTTPAdapter\n",
    "from requests.packages.urllib3.util.retry import Retry\n",
    "from tqdm import tqdm\n",
    "from pathlib import Path\n",
    "from multiprocessing.pool import ThreadPool"
   ]
  },
  {
   "cell_type": "code",
   "execution_count": 2,
   "outputs": [],
   "source": [
    "files = Path('data').glob('*.pkl')"
   ],
   "metadata": {
    "collapsed": false,
    "pycharm": {
     "name": "#%%\n"
    }
   }
  },
  {
   "cell_type": "code",
   "execution_count": 3,
   "outputs": [],
   "source": [
    "datas = pd.concat(list(map(lambda x: pd.read_pickle(x), files)))"
   ],
   "metadata": {
    "collapsed": false,
    "pycharm": {
     "name": "#%%\n"
    }
   }
  },
  {
   "cell_type": "code",
   "execution_count": 4,
   "outputs": [
    {
     "data": {
      "text/plain": "       market candle_date_time_utc candle_date_time_kst  opening_price  \\\n0   KRW-1INCH  2021-10-27T08:59:00  2021-10-27T17:59:00        10550.0   \n1   KRW-1INCH  2021-10-27T08:58:00  2021-10-27T17:58:00        10840.0   \n2   KRW-1INCH  2021-10-27T08:57:00  2021-10-27T17:57:00        11410.0   \n3   KRW-1INCH  2021-10-27T08:56:00  2021-10-27T17:56:00        11690.0   \n4   KRW-1INCH  2021-10-27T08:55:00  2021-10-27T17:55:00        11330.0   \n..        ...                  ...                  ...            ...   \n63    KRW-ZRX  2022-03-16T15:06:00  2022-03-17T00:06:00          618.0   \n64    KRW-ZRX  2022-03-16T15:04:00  2022-03-17T00:04:00          618.0   \n65    KRW-ZRX  2022-03-16T15:03:00  2022-03-17T00:03:00          618.0   \n66    KRW-ZRX  2022-03-16T15:01:00  2022-03-17T00:01:00          617.0   \n67    KRW-ZRX  2022-03-16T15:00:00  2022-03-17T00:00:00          618.0   \n\n    high_price  low_price  trade_price      timestamp  candle_acc_trade_price  \\\n0      10750.0    10340.0      10700.0  1635325200277            1.169192e+10   \n1      11090.0    10530.0      10570.0  1635325141041            1.200504e+10   \n2      11630.0    10710.0      10850.0  1635325080776            1.431111e+10   \n3      12190.0    11400.0      11450.0  1635325020268            1.054660e+10   \n4      11760.0    11200.0      11690.0  1635324960120            9.415980e+09   \n..         ...        ...          ...            ...                     ...   \n63       619.0      618.0        619.0  1647443213343            6.709732e+04   \n64       618.0      618.0        618.0  1647443077161            4.118493e+05   \n65       618.0      618.0        618.0  1647443022594            6.287000e+03   \n66       618.0      617.0        617.0  1647442902835            2.311694e+06   \n67       618.0      618.0        618.0  1647442825189            8.154880e+04   \n\n    candle_acc_trade_volume  unit  \n0              1.111414e+06     1  \n1              1.108238e+06     1  \n2              1.290275e+06     1  \n3              8.858417e+05     1  \n4              8.154110e+05     1  \n..                      ...   ...  \n63             1.085553e+02     1  \n64             6.664229e+02     1  \n65             1.017314e+01     1  \n66             3.746438e+03     1  \n67             1.319560e+02     1  \n\n[55159364 rows x 11 columns]",
      "text/html": "<div>\n<style scoped>\n    .dataframe tbody tr th:only-of-type {\n        vertical-align: middle;\n    }\n\n    .dataframe tbody tr th {\n        vertical-align: top;\n    }\n\n    .dataframe thead th {\n        text-align: right;\n    }\n</style>\n<table border=\"1\" class=\"dataframe\">\n  <thead>\n    <tr style=\"text-align: right;\">\n      <th></th>\n      <th>market</th>\n      <th>candle_date_time_utc</th>\n      <th>candle_date_time_kst</th>\n      <th>opening_price</th>\n      <th>high_price</th>\n      <th>low_price</th>\n      <th>trade_price</th>\n      <th>timestamp</th>\n      <th>candle_acc_trade_price</th>\n      <th>candle_acc_trade_volume</th>\n      <th>unit</th>\n    </tr>\n  </thead>\n  <tbody>\n    <tr>\n      <th>0</th>\n      <td>KRW-1INCH</td>\n      <td>2021-10-27T08:59:00</td>\n      <td>2021-10-27T17:59:00</td>\n      <td>10550.0</td>\n      <td>10750.0</td>\n      <td>10340.0</td>\n      <td>10700.0</td>\n      <td>1635325200277</td>\n      <td>1.169192e+10</td>\n      <td>1.111414e+06</td>\n      <td>1</td>\n    </tr>\n    <tr>\n      <th>1</th>\n      <td>KRW-1INCH</td>\n      <td>2021-10-27T08:58:00</td>\n      <td>2021-10-27T17:58:00</td>\n      <td>10840.0</td>\n      <td>11090.0</td>\n      <td>10530.0</td>\n      <td>10570.0</td>\n      <td>1635325141041</td>\n      <td>1.200504e+10</td>\n      <td>1.108238e+06</td>\n      <td>1</td>\n    </tr>\n    <tr>\n      <th>2</th>\n      <td>KRW-1INCH</td>\n      <td>2021-10-27T08:57:00</td>\n      <td>2021-10-27T17:57:00</td>\n      <td>11410.0</td>\n      <td>11630.0</td>\n      <td>10710.0</td>\n      <td>10850.0</td>\n      <td>1635325080776</td>\n      <td>1.431111e+10</td>\n      <td>1.290275e+06</td>\n      <td>1</td>\n    </tr>\n    <tr>\n      <th>3</th>\n      <td>KRW-1INCH</td>\n      <td>2021-10-27T08:56:00</td>\n      <td>2021-10-27T17:56:00</td>\n      <td>11690.0</td>\n      <td>12190.0</td>\n      <td>11400.0</td>\n      <td>11450.0</td>\n      <td>1635325020268</td>\n      <td>1.054660e+10</td>\n      <td>8.858417e+05</td>\n      <td>1</td>\n    </tr>\n    <tr>\n      <th>4</th>\n      <td>KRW-1INCH</td>\n      <td>2021-10-27T08:55:00</td>\n      <td>2021-10-27T17:55:00</td>\n      <td>11330.0</td>\n      <td>11760.0</td>\n      <td>11200.0</td>\n      <td>11690.0</td>\n      <td>1635324960120</td>\n      <td>9.415980e+09</td>\n      <td>8.154110e+05</td>\n      <td>1</td>\n    </tr>\n    <tr>\n      <th>...</th>\n      <td>...</td>\n      <td>...</td>\n      <td>...</td>\n      <td>...</td>\n      <td>...</td>\n      <td>...</td>\n      <td>...</td>\n      <td>...</td>\n      <td>...</td>\n      <td>...</td>\n      <td>...</td>\n    </tr>\n    <tr>\n      <th>63</th>\n      <td>KRW-ZRX</td>\n      <td>2022-03-16T15:06:00</td>\n      <td>2022-03-17T00:06:00</td>\n      <td>618.0</td>\n      <td>619.0</td>\n      <td>618.0</td>\n      <td>619.0</td>\n      <td>1647443213343</td>\n      <td>6.709732e+04</td>\n      <td>1.085553e+02</td>\n      <td>1</td>\n    </tr>\n    <tr>\n      <th>64</th>\n      <td>KRW-ZRX</td>\n      <td>2022-03-16T15:04:00</td>\n      <td>2022-03-17T00:04:00</td>\n      <td>618.0</td>\n      <td>618.0</td>\n      <td>618.0</td>\n      <td>618.0</td>\n      <td>1647443077161</td>\n      <td>4.118493e+05</td>\n      <td>6.664229e+02</td>\n      <td>1</td>\n    </tr>\n    <tr>\n      <th>65</th>\n      <td>KRW-ZRX</td>\n      <td>2022-03-16T15:03:00</td>\n      <td>2022-03-17T00:03:00</td>\n      <td>618.0</td>\n      <td>618.0</td>\n      <td>618.0</td>\n      <td>618.0</td>\n      <td>1647443022594</td>\n      <td>6.287000e+03</td>\n      <td>1.017314e+01</td>\n      <td>1</td>\n    </tr>\n    <tr>\n      <th>66</th>\n      <td>KRW-ZRX</td>\n      <td>2022-03-16T15:01:00</td>\n      <td>2022-03-17T00:01:00</td>\n      <td>617.0</td>\n      <td>618.0</td>\n      <td>617.0</td>\n      <td>617.0</td>\n      <td>1647442902835</td>\n      <td>2.311694e+06</td>\n      <td>3.746438e+03</td>\n      <td>1</td>\n    </tr>\n    <tr>\n      <th>67</th>\n      <td>KRW-ZRX</td>\n      <td>2022-03-16T15:00:00</td>\n      <td>2022-03-17T00:00:00</td>\n      <td>618.0</td>\n      <td>618.0</td>\n      <td>618.0</td>\n      <td>618.0</td>\n      <td>1647442825189</td>\n      <td>8.154880e+04</td>\n      <td>1.319560e+02</td>\n      <td>1</td>\n    </tr>\n  </tbody>\n</table>\n<p>55159364 rows × 11 columns</p>\n</div>"
     },
     "execution_count": 4,
     "metadata": {},
     "output_type": "execute_result"
    }
   ],
   "source": [
    "datas"
   ],
   "metadata": {
    "collapsed": false,
    "pycharm": {
     "name": "#%%\n"
    }
   }
  },
  {
   "cell_type": "code",
   "execution_count": 5,
   "outputs": [
    {
     "name": "stdout",
     "output_type": "stream",
     "text": [
      "<class 'pandas.core.frame.DataFrame'>\n",
      "Int64Index: 55159364 entries, 0 to 67\n",
      "Data columns (total 11 columns):\n",
      " #   Column                   Dtype  \n",
      "---  ------                   -----  \n",
      " 0   market                   object \n",
      " 1   candle_date_time_utc     object \n",
      " 2   candle_date_time_kst     object \n",
      " 3   opening_price            float64\n",
      " 4   high_price               float64\n",
      " 5   low_price                float64\n",
      " 6   trade_price              float64\n",
      " 7   timestamp                int64  \n",
      " 8   candle_acc_trade_price   float64\n",
      " 9   candle_acc_trade_volume  float64\n",
      " 10  unit                     int64  \n",
      "dtypes: float64(6), int64(2), object(3)\n",
      "memory usage: 4.9+ GB\n"
     ]
    }
   ],
   "source": [
    "datas.info()"
   ],
   "metadata": {
    "collapsed": false,
    "pycharm": {
     "name": "#%%\n"
    }
   }
  },
  {
   "cell_type": "code",
   "execution_count": 6,
   "outputs": [],
   "source": [
    "datas_dict = datas.to_dict('records')"
   ],
   "metadata": {
    "collapsed": false,
    "pycharm": {
     "name": "#%%\n"
    }
   }
  },
  {
   "cell_type": "code",
   "execution_count": 7,
   "outputs": [],
   "source": [
    "session = requests.Session()\n",
    "retry = Retry(connect=1000, backoff_factor=0.5)\n",
    "adapter = HTTPAdapter(max_retries=retry)\n",
    "session.mount('http://', adapter)\n",
    "session.mount('https://', adapter)"
   ],
   "metadata": {
    "collapsed": false,
    "pycharm": {
     "name": "#%%\n"
    }
   }
  },
  {
   "cell_type": "code",
   "execution_count": 8,
   "outputs": [],
   "source": [
    "def start(data):\n",
    "    insert_url = 'http://127.0.0.1:8000/upbit/candle/'\n",
    "    session.post(insert_url, data=data)"
   ],
   "metadata": {
    "collapsed": false,
    "pycharm": {
     "name": "#%%\n"
    }
   }
  },
  {
   "cell_type": "code",
   "execution_count": null,
   "outputs": [
    {
     "name": "stderr",
     "output_type": "stream",
     "text": [
      "  0%|          | 11/55159364 [00:00<322:04:50, 47.57it/s]\n"
     ]
    }
   ],
   "source": [
    "pool = ThreadPool(processes=100)\n",
    "pool.map(start, tqdm(datas))\n",
    "pool.close()\n",
    "pool.join()"
   ],
   "metadata": {
    "collapsed": false,
    "pycharm": {
     "name": "#%%\n",
     "is_executing": true
    }
   }
  },
  {
   "cell_type": "code",
   "execution_count": null,
   "outputs": [],
   "source": [],
   "metadata": {
    "collapsed": false,
    "pycharm": {
     "name": "#%%\n",
     "is_executing": true
    }
   }
  }
 ],
 "metadata": {
  "kernelspec": {
   "display_name": "Python 3",
   "language": "python",
   "name": "python3"
  },
  "language_info": {
   "codemirror_mode": {
    "name": "ipython",
    "version": 2
   },
   "file_extension": ".py",
   "mimetype": "text/x-python",
   "name": "python",
   "nbconvert_exporter": "python",
   "pygments_lexer": "ipython2",
   "version": "2.7.6"
  }
 },
 "nbformat": 4,
 "nbformat_minor": 0
}