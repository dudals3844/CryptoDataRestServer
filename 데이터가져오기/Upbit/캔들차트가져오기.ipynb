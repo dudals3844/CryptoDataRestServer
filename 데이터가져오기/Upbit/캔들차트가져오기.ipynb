{
 "cells": [
  {
   "cell_type": "code",
   "execution_count": 18,
   "metadata": {
    "collapsed": true
   },
   "outputs": [],
   "source": [
    "import time\n",
    "import requests\n",
    "import pandas as pd\n",
    "import json"
   ]
  },
  {
   "cell_type": "code",
   "execution_count": 52,
   "outputs": [],
   "source": [
    "url = \"https://api.upbit.com/v1/candles/minutes/1\""
   ],
   "metadata": {
    "collapsed": false,
    "pycharm": {
     "name": "#%%\n"
    }
   }
  },
  {
   "cell_type": "code",
   "execution_count": 53,
   "outputs": [],
   "source": [
    "params = {\n",
    "    \"market\": \"KRW-BTC\",\n",
    "    \"count\": \"200\"\n",
    "}"
   ],
   "metadata": {
    "collapsed": false,
    "pycharm": {
     "name": "#%%\n"
    }
   }
  },
  {
   "cell_type": "code",
   "execution_count": 54,
   "outputs": [],
   "source": [
    "response = requests.get(url, params=params)"
   ],
   "metadata": {
    "collapsed": false,
    "pycharm": {
     "name": "#%%\n"
    }
   }
  },
  {
   "cell_type": "code",
   "execution_count": 55,
   "outputs": [],
   "source": [
    "response_dict = json.loads(response.text)"
   ],
   "metadata": {
    "collapsed": false,
    "pycharm": {
     "name": "#%%\n"
    }
   }
  },
  {
   "cell_type": "code",
   "execution_count": 56,
   "outputs": [],
   "source": [
    "data_df = pd.DataFrame(response_dict)"
   ],
   "metadata": {
    "collapsed": false,
    "pycharm": {
     "name": "#%%\n"
    }
   }
  },
  {
   "cell_type": "code",
   "execution_count": 57,
   "outputs": [
    {
     "data": {
      "text/plain": "      market candle_date_time_utc candle_date_time_kst  opening_price  \\\n0    KRW-BTC  2022-03-12T09:50:00  2022-03-12T18:50:00     48880000.0   \n1    KRW-BTC  2022-03-12T09:49:00  2022-03-12T18:49:00     48872000.0   \n2    KRW-BTC  2022-03-12T09:48:00  2022-03-12T18:48:00     48871000.0   \n3    KRW-BTC  2022-03-12T09:47:00  2022-03-12T18:47:00     48870000.0   \n4    KRW-BTC  2022-03-12T09:46:00  2022-03-12T18:46:00     48868000.0   \n..       ...                  ...                  ...            ...   \n195  KRW-BTC  2022-03-12T06:35:00  2022-03-12T15:35:00     48728000.0   \n196  KRW-BTC  2022-03-12T06:34:00  2022-03-12T15:34:00     48736000.0   \n197  KRW-BTC  2022-03-12T06:33:00  2022-03-12T15:33:00     48734000.0   \n198  KRW-BTC  2022-03-12T06:32:00  2022-03-12T15:32:00     48735000.0   \n199  KRW-BTC  2022-03-12T06:31:00  2022-03-12T15:31:00     48734000.0   \n\n     high_price   low_price  trade_price      timestamp  \\\n0    48880000.0  48880000.0   48880000.0  1647078600319   \n1    48881000.0  48864000.0   48880000.0  1647078599475   \n2    48876000.0  48870000.0   48872000.0  1647078538462   \n3    48876000.0  48869000.0   48870000.0  1647078479405   \n4    48870000.0  48868000.0   48870000.0  1647078416286   \n..          ...         ...          ...            ...   \n195  48745000.0  48701000.0   48702000.0  1647066959568   \n196  48736000.0  48706000.0   48724000.0  1647066898830   \n197  48760000.0  48714000.0   48714000.0  1647066835433   \n198  48736000.0  48734000.0   48734000.0  1647066779228   \n199  48735000.0  48734000.0   48734000.0  1647066719300   \n\n     candle_acc_trade_price  candle_acc_trade_volume  unit  \n0              1.275653e+06                 0.026098     1  \n1              4.575457e+07                 0.936193     1  \n2              5.828570e+07                 1.192641     1  \n3              7.808485e+07                 1.597760     1  \n4              9.869521e+07                 2.019561     1  \n..                      ...                      ...   ...  \n195            3.644340e+07                 0.748154     1  \n196            4.283610e+07                 0.879192     1  \n197            5.578092e+07                 1.144558     1  \n198            1.009804e+08                 2.072042     1  \n199            8.568701e+07                 1.758253     1  \n\n[200 rows x 11 columns]",
      "text/html": "<div>\n<style scoped>\n    .dataframe tbody tr th:only-of-type {\n        vertical-align: middle;\n    }\n\n    .dataframe tbody tr th {\n        vertical-align: top;\n    }\n\n    .dataframe thead th {\n        text-align: right;\n    }\n</style>\n<table border=\"1\" class=\"dataframe\">\n  <thead>\n    <tr style=\"text-align: right;\">\n      <th></th>\n      <th>market</th>\n      <th>candle_date_time_utc</th>\n      <th>candle_date_time_kst</th>\n      <th>opening_price</th>\n      <th>high_price</th>\n      <th>low_price</th>\n      <th>trade_price</th>\n      <th>timestamp</th>\n      <th>candle_acc_trade_price</th>\n      <th>candle_acc_trade_volume</th>\n      <th>unit</th>\n    </tr>\n  </thead>\n  <tbody>\n    <tr>\n      <th>0</th>\n      <td>KRW-BTC</td>\n      <td>2022-03-12T09:50:00</td>\n      <td>2022-03-12T18:50:00</td>\n      <td>48880000.0</td>\n      <td>48880000.0</td>\n      <td>48880000.0</td>\n      <td>48880000.0</td>\n      <td>1647078600319</td>\n      <td>1.275653e+06</td>\n      <td>0.026098</td>\n      <td>1</td>\n    </tr>\n    <tr>\n      <th>1</th>\n      <td>KRW-BTC</td>\n      <td>2022-03-12T09:49:00</td>\n      <td>2022-03-12T18:49:00</td>\n      <td>48872000.0</td>\n      <td>48881000.0</td>\n      <td>48864000.0</td>\n      <td>48880000.0</td>\n      <td>1647078599475</td>\n      <td>4.575457e+07</td>\n      <td>0.936193</td>\n      <td>1</td>\n    </tr>\n    <tr>\n      <th>2</th>\n      <td>KRW-BTC</td>\n      <td>2022-03-12T09:48:00</td>\n      <td>2022-03-12T18:48:00</td>\n      <td>48871000.0</td>\n      <td>48876000.0</td>\n      <td>48870000.0</td>\n      <td>48872000.0</td>\n      <td>1647078538462</td>\n      <td>5.828570e+07</td>\n      <td>1.192641</td>\n      <td>1</td>\n    </tr>\n    <tr>\n      <th>3</th>\n      <td>KRW-BTC</td>\n      <td>2022-03-12T09:47:00</td>\n      <td>2022-03-12T18:47:00</td>\n      <td>48870000.0</td>\n      <td>48876000.0</td>\n      <td>48869000.0</td>\n      <td>48870000.0</td>\n      <td>1647078479405</td>\n      <td>7.808485e+07</td>\n      <td>1.597760</td>\n      <td>1</td>\n    </tr>\n    <tr>\n      <th>4</th>\n      <td>KRW-BTC</td>\n      <td>2022-03-12T09:46:00</td>\n      <td>2022-03-12T18:46:00</td>\n      <td>48868000.0</td>\n      <td>48870000.0</td>\n      <td>48868000.0</td>\n      <td>48870000.0</td>\n      <td>1647078416286</td>\n      <td>9.869521e+07</td>\n      <td>2.019561</td>\n      <td>1</td>\n    </tr>\n    <tr>\n      <th>...</th>\n      <td>...</td>\n      <td>...</td>\n      <td>...</td>\n      <td>...</td>\n      <td>...</td>\n      <td>...</td>\n      <td>...</td>\n      <td>...</td>\n      <td>...</td>\n      <td>...</td>\n      <td>...</td>\n    </tr>\n    <tr>\n      <th>195</th>\n      <td>KRW-BTC</td>\n      <td>2022-03-12T06:35:00</td>\n      <td>2022-03-12T15:35:00</td>\n      <td>48728000.0</td>\n      <td>48745000.0</td>\n      <td>48701000.0</td>\n      <td>48702000.0</td>\n      <td>1647066959568</td>\n      <td>3.644340e+07</td>\n      <td>0.748154</td>\n      <td>1</td>\n    </tr>\n    <tr>\n      <th>196</th>\n      <td>KRW-BTC</td>\n      <td>2022-03-12T06:34:00</td>\n      <td>2022-03-12T15:34:00</td>\n      <td>48736000.0</td>\n      <td>48736000.0</td>\n      <td>48706000.0</td>\n      <td>48724000.0</td>\n      <td>1647066898830</td>\n      <td>4.283610e+07</td>\n      <td>0.879192</td>\n      <td>1</td>\n    </tr>\n    <tr>\n      <th>197</th>\n      <td>KRW-BTC</td>\n      <td>2022-03-12T06:33:00</td>\n      <td>2022-03-12T15:33:00</td>\n      <td>48734000.0</td>\n      <td>48760000.0</td>\n      <td>48714000.0</td>\n      <td>48714000.0</td>\n      <td>1647066835433</td>\n      <td>5.578092e+07</td>\n      <td>1.144558</td>\n      <td>1</td>\n    </tr>\n    <tr>\n      <th>198</th>\n      <td>KRW-BTC</td>\n      <td>2022-03-12T06:32:00</td>\n      <td>2022-03-12T15:32:00</td>\n      <td>48735000.0</td>\n      <td>48736000.0</td>\n      <td>48734000.0</td>\n      <td>48734000.0</td>\n      <td>1647066779228</td>\n      <td>1.009804e+08</td>\n      <td>2.072042</td>\n      <td>1</td>\n    </tr>\n    <tr>\n      <th>199</th>\n      <td>KRW-BTC</td>\n      <td>2022-03-12T06:31:00</td>\n      <td>2022-03-12T15:31:00</td>\n      <td>48734000.0</td>\n      <td>48735000.0</td>\n      <td>48734000.0</td>\n      <td>48734000.0</td>\n      <td>1647066719300</td>\n      <td>8.568701e+07</td>\n      <td>1.758253</td>\n      <td>1</td>\n    </tr>\n  </tbody>\n</table>\n<p>200 rows × 11 columns</p>\n</div>"
     },
     "execution_count": 57,
     "metadata": {},
     "output_type": "execute_result"
    }
   ],
   "source": [
    "data_df"
   ],
   "metadata": {
    "collapsed": false,
    "pycharm": {
     "name": "#%%\n"
    }
   }
  },
  {
   "cell_type": "code",
   "execution_count": 48,
   "outputs": [],
   "source": [
    "last_time = response_dict[-1]['candle_date_time_kst']"
   ],
   "metadata": {
    "collapsed": false,
    "pycharm": {
     "name": "#%%\n"
    }
   }
  },
  {
   "cell_type": "code",
   "execution_count": 51,
   "outputs": [
    {
     "data": {
      "text/plain": "{'error': {'name': 400,\n  'message': 'Invalid parameter. Check the given value!'}}"
     },
     "execution_count": 51,
     "metadata": {},
     "output_type": "execute_result"
    }
   ],
   "source": [
    "response_dict"
   ],
   "metadata": {
    "collapsed": false,
    "pycharm": {
     "name": "#%%\n"
    }
   }
  },
  {
   "cell_type": "code",
   "execution_count": 50,
   "outputs": [
    {
     "name": "stdout",
     "output_type": "stream",
     "text": [
      "2022-03-12T15:30:00\n"
     ]
    },
    {
     "ename": "KeyError",
     "evalue": "-1",
     "output_type": "error",
     "traceback": [
      "\u001B[0;31m---------------------------------------------------------------------------\u001B[0m",
      "\u001B[0;31mKeyError\u001B[0m                                  Traceback (most recent call last)",
      "Input \u001B[0;32mIn [50]\u001B[0m, in \u001B[0;36m<cell line: 1>\u001B[0;34m()\u001B[0m\n\u001B[1;32m      1\u001B[0m \u001B[38;5;28;01mfor\u001B[39;00m i \u001B[38;5;129;01min\u001B[39;00m \u001B[38;5;28mrange\u001B[39m(\u001B[38;5;241m10\u001B[39m):\n\u001B[0;32m----> 2\u001B[0m     last_time \u001B[38;5;241m=\u001B[39m \u001B[43mresponse_dict\u001B[49m\u001B[43m[\u001B[49m\u001B[38;5;241;43m-\u001B[39;49m\u001B[38;5;241;43m1\u001B[39;49m\u001B[43m]\u001B[49m[\u001B[38;5;124m'\u001B[39m\u001B[38;5;124mcandle_date_time_kst\u001B[39m\u001B[38;5;124m'\u001B[39m]\n\u001B[1;32m      3\u001B[0m     \u001B[38;5;28mprint\u001B[39m(last_time)\n\u001B[1;32m      4\u001B[0m     params \u001B[38;5;241m=\u001B[39m {\n\u001B[1;32m      5\u001B[0m         \u001B[38;5;124m\"\u001B[39m\u001B[38;5;124mmarket\u001B[39m\u001B[38;5;124m\"\u001B[39m: \u001B[38;5;124m\"\u001B[39m\u001B[38;5;124mKRW-BTC\u001B[39m\u001B[38;5;124m\"\u001B[39m,\n\u001B[1;32m      6\u001B[0m         \u001B[38;5;124m\"\u001B[39m\u001B[38;5;124mcount\u001B[39m\u001B[38;5;124m\"\u001B[39m: \u001B[38;5;124m\"\u001B[39m\u001B[38;5;124m200\u001B[39m\u001B[38;5;124m\"\u001B[39m,\n\u001B[1;32m      7\u001B[0m         \u001B[38;5;124m\"\u001B[39m\u001B[38;5;124mto\u001B[39m\u001B[38;5;124m\"\u001B[39m: last_time,\n\u001B[1;32m      8\u001B[0m     }\n",
      "\u001B[0;31mKeyError\u001B[0m: -1"
     ]
    }
   ],
   "source": [
    "for i in range(10):\n",
    "    last_time = response_dict[-1]['candle_date_time_kst']\n",
    "    print(last_time)\n",
    "    params = {\n",
    "        \"market\": \"KRW-BTC\",\n",
    "        \"count\": \"200\",\n",
    "        \"to\": last_time,\n",
    "    }\n",
    "    response = requests.get(url, params=params)\n",
    "    response_dict = json.loads(response.text)\n",
    "    data_df = pd.concat([data_df, pd.DataFrame(response_dict)])\n",
    "    time.sleep(0.1)"
   ],
   "metadata": {
    "collapsed": false,
    "pycharm": {
     "name": "#%%\n"
    }
   }
  },
  {
   "cell_type": "code",
   "execution_count": null,
   "outputs": [],
   "source": [],
   "metadata": {
    "collapsed": false,
    "pycharm": {
     "name": "#%%\n"
    }
   }
  }
 ],
 "metadata": {
  "kernelspec": {
   "display_name": "Python 3",
   "language": "python",
   "name": "python3"
  },
  "language_info": {
   "codemirror_mode": {
    "name": "ipython",
    "version": 2
   },
   "file_extension": ".py",
   "mimetype": "text/x-python",
   "name": "python",
   "nbconvert_exporter": "python",
   "pygments_lexer": "ipython2",
   "version": "2.7.6"
  }
 },
 "nbformat": 4,
 "nbformat_minor": 0
}