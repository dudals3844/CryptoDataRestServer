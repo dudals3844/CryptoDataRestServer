{
 "cells": [
  {
   "cell_type": "code",
   "execution_count": 1,
   "metadata": {
    "collapsed": true
   },
   "outputs": [],
   "source": [
    "import time\n",
    "import requests\n",
    "import pandas as pd\n",
    "import json\n",
    "from tqdm import tqdm\n",
    "from datetime import datetime\n",
    "from multiprocessing.pool import ThreadPool\n",
    "from requests.adapters import HTTPAdapter\n",
    "from requests.packages.urllib3.util.retry import Retry"
   ]
  },
  {
   "cell_type": "code",
   "execution_count": 2,
   "outputs": [],
   "source": [
    "session = requests.Session()\n",
    "retry = Retry(connect=1000, backoff_factor=0.5)\n",
    "adapter = HTTPAdapter(max_retries=retry)\n",
    "session.mount('http://', adapter)\n",
    "session.mount('https://', adapter)"
   ],
   "metadata": {
    "collapsed": false,
    "pycharm": {
     "name": "#%%\n"
    }
   }
  },
  {
   "cell_type": "code",
   "execution_count": 3,
   "outputs": [],
   "source": [
    "def start(ticker):\n",
    "    url = \"https://api.upbit.com/v1/candles/minutes/1\"\n",
    "    now = datetime.now().strftime(\"%Y-%m-%d\")\n",
    "    date_ranges = pd.date_range('2021-01-01', now, freq='3H')\n",
    "    data_df = pd.DataFrame()\n",
    "    for date in tqdm(date_ranges):\n",
    "        params = {\n",
    "            \"market\": ticker,\n",
    "            \"count\": \"200\",\n",
    "            \"to\": date,\n",
    "        }\n",
    "        response = session.get(url, params=params)\n",
    "        response_dict = json.loads(response.text)\n",
    "        data_df = pd.concat([data_df, pd.DataFrame(response_dict)])\n",
    "        time.sleep(0.1)\n",
    "    data_df = data_df.drop_duplicates(subset=['candle_date_time_kst'])\n",
    "    datas = data_df.to_dict('records')\n",
    "\n",
    "\n",
    "    def insert(data):\n",
    "        insert_url = 'http://127.0.0.1:8000/upbit/candle/'\n",
    "        session.post(insert_url, data=data)\n",
    "\n",
    "\n",
    "    pool = ThreadPool(processes=10)\n",
    "    pool.map(insert, tqdm(datas))\n",
    "    pool.close()\n",
    "    pool.join()"
   ],
   "metadata": {
    "collapsed": false,
    "pycharm": {
     "name": "#%%\n"
    }
   }
  },
  {
   "cell_type": "code",
   "execution_count": 4,
   "outputs": [],
   "source": [
    "ticker_url = 'http://127.0.0.1:8000/upbit/ticker/'"
   ],
   "metadata": {
    "collapsed": false,
    "pycharm": {
     "name": "#%%\n"
    }
   }
  },
  {
   "cell_type": "code",
   "execution_count": 5,
   "outputs": [],
   "source": [
    "response = session.get('http://127.0.0.1:8000/upbit/ticker/')"
   ],
   "metadata": {
    "collapsed": false,
    "pycharm": {
     "name": "#%%\n"
    }
   }
  },
  {
   "cell_type": "code",
   "execution_count": 6,
   "outputs": [],
   "source": [
    "ticker_df = pd.DataFrame(json.loads(response.text))"
   ],
   "metadata": {
    "collapsed": false,
    "pycharm": {
     "name": "#%%\n"
    }
   }
  },
  {
   "cell_type": "code",
   "execution_count": 7,
   "outputs": [
    {
     "data": {
      "text/plain": "        market korean_name   english_name\n0    BTC-1INCH     1인치네트워크  1inch Network\n1     BTC-AAVE         에이브           Aave\n2      BTC-ADA         에이다            Ada\n3    BTC-AERGO         아르고          Aergo\n4      BTC-AHT        아하토큰       AhaToken\n..         ...         ...            ...\n258    USDT-SC        시아코인        Siacoin\n259   USDT-TRX          트론           TRON\n260  USDT-TUSD       트루USD        TrueUSD\n261   USDT-XRP          리플         Ripple\n262   USDT-ZRX        제로엑스    0x Protocol\n\n[263 rows x 3 columns]",
      "text/html": "<div>\n<style scoped>\n    .dataframe tbody tr th:only-of-type {\n        vertical-align: middle;\n    }\n\n    .dataframe tbody tr th {\n        vertical-align: top;\n    }\n\n    .dataframe thead th {\n        text-align: right;\n    }\n</style>\n<table border=\"1\" class=\"dataframe\">\n  <thead>\n    <tr style=\"text-align: right;\">\n      <th></th>\n      <th>market</th>\n      <th>korean_name</th>\n      <th>english_name</th>\n    </tr>\n  </thead>\n  <tbody>\n    <tr>\n      <th>0</th>\n      <td>BTC-1INCH</td>\n      <td>1인치네트워크</td>\n      <td>1inch Network</td>\n    </tr>\n    <tr>\n      <th>1</th>\n      <td>BTC-AAVE</td>\n      <td>에이브</td>\n      <td>Aave</td>\n    </tr>\n    <tr>\n      <th>2</th>\n      <td>BTC-ADA</td>\n      <td>에이다</td>\n      <td>Ada</td>\n    </tr>\n    <tr>\n      <th>3</th>\n      <td>BTC-AERGO</td>\n      <td>아르고</td>\n      <td>Aergo</td>\n    </tr>\n    <tr>\n      <th>4</th>\n      <td>BTC-AHT</td>\n      <td>아하토큰</td>\n      <td>AhaToken</td>\n    </tr>\n    <tr>\n      <th>...</th>\n      <td>...</td>\n      <td>...</td>\n      <td>...</td>\n    </tr>\n    <tr>\n      <th>258</th>\n      <td>USDT-SC</td>\n      <td>시아코인</td>\n      <td>Siacoin</td>\n    </tr>\n    <tr>\n      <th>259</th>\n      <td>USDT-TRX</td>\n      <td>트론</td>\n      <td>TRON</td>\n    </tr>\n    <tr>\n      <th>260</th>\n      <td>USDT-TUSD</td>\n      <td>트루USD</td>\n      <td>TrueUSD</td>\n    </tr>\n    <tr>\n      <th>261</th>\n      <td>USDT-XRP</td>\n      <td>리플</td>\n      <td>Ripple</td>\n    </tr>\n    <tr>\n      <th>262</th>\n      <td>USDT-ZRX</td>\n      <td>제로엑스</td>\n      <td>0x Protocol</td>\n    </tr>\n  </tbody>\n</table>\n<p>263 rows × 3 columns</p>\n</div>"
     },
     "execution_count": 7,
     "metadata": {},
     "output_type": "execute_result"
    }
   ],
   "source": [
    "ticker_df"
   ],
   "metadata": {
    "collapsed": false,
    "pycharm": {
     "name": "#%%\n"
    }
   }
  },
  {
   "cell_type": "code",
   "execution_count": null,
   "outputs": [],
   "source": [
    "for ticker in ticker_df['market']:\n",
    "    if ticker >= \"BTC-ALGO\":\n",
    "        print(ticker)\n",
    "        start(ticker)"
   ],
   "metadata": {
    "collapsed": false,
    "pycharm": {
     "name": "#%%\n",
     "is_executing": true
    }
   }
  },
  {
   "cell_type": "code",
   "execution_count": null,
   "outputs": [],
   "source": [],
   "metadata": {
    "collapsed": false,
    "pycharm": {
     "name": "#%%\n",
     "is_executing": true
    }
   }
  },
  {
   "cell_type": "code",
   "execution_count": null,
   "outputs": [],
   "source": [],
   "metadata": {
    "collapsed": false,
    "pycharm": {
     "name": "#%%\n"
    }
   }
  }
 ],
 "metadata": {
  "kernelspec": {
   "display_name": "Python 3",
   "language": "python",
   "name": "python3"
  },
  "language_info": {
   "codemirror_mode": {
    "name": "ipython",
    "version": 2
   },
   "file_extension": ".py",
   "mimetype": "text/x-python",
   "name": "python",
   "nbconvert_exporter": "python",
   "pygments_lexer": "ipython2",
   "version": "2.7.6"
  }
 },
 "nbformat": 4,
 "nbformat_minor": 0
}